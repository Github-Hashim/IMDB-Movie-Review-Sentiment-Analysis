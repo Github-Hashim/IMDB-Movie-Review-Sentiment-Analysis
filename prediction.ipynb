{
 "cells": [
  {
   "cell_type": "code",
   "execution_count": 1,
   "metadata": {},
   "outputs": [],
   "source": [
    "# Step 1: Import Libraries and Load the Model\n",
    "import numpy as np\n",
    "import tensorflow as tf\n",
    "from tensorflow.keras.datasets import imdb\n",
    "from tensorflow.keras.preprocessing import sequence\n",
    "from tensorflow.keras.models import load_model"
   ]
  },
  {
   "cell_type": "code",
   "execution_count": 2,
   "metadata": {},
   "outputs": [],
   "source": [
    "\n",
    "# Load the IMDB dataset word index\n",
    "word_index = imdb.get_word_index()\n",
    "reverse_word_index = {value: key for key, value in word_index.items()}"
   ]
  },
  {
   "cell_type": "code",
   "execution_count": 3,
   "metadata": {},
   "outputs": [
    {
     "name": "stderr",
     "output_type": "stream",
     "text": [
      "WARNING:absl:Compiled the loaded model, but the compiled metrics have yet to be built. `model.compile_metrics` will be empty until you train or evaluate the model.\n"
     ]
    },
    {
     "data": {
      "text/html": [
       "<pre style=\"white-space:pre;overflow-x:auto;line-height:normal;font-family:Menlo,'DejaVu Sans Mono',consolas,'Courier New',monospace\"><span style=\"font-weight: bold\">Model: \"sequential_1\"</span>\n",
       "</pre>\n"
      ],
      "text/plain": [
       "\u001b[1mModel: \"sequential_1\"\u001b[0m\n"
      ]
     },
     "metadata": {},
     "output_type": "display_data"
    },
    {
     "data": {
      "text/html": [
       "<pre style=\"white-space:pre;overflow-x:auto;line-height:normal;font-family:Menlo,'DejaVu Sans Mono',consolas,'Courier New',monospace\">┏━━━━━━━━━━━━━━━━━━━━━━━━━━━━━━━━━┳━━━━━━━━━━━━━━━━━━━━━━━━┳━━━━━━━━━━━━━━━┓\n",
       "┃<span style=\"font-weight: bold\"> Layer (type)                    </span>┃<span style=\"font-weight: bold\"> Output Shape           </span>┃<span style=\"font-weight: bold\">       Param # </span>┃\n",
       "┡━━━━━━━━━━━━━━━━━━━━━━━━━━━━━━━━━╇━━━━━━━━━━━━━━━━━━━━━━━━╇━━━━━━━━━━━━━━━┩\n",
       "│ embedding_1 (<span style=\"color: #0087ff; text-decoration-color: #0087ff\">Embedding</span>)         │ (<span style=\"color: #00af00; text-decoration-color: #00af00\">32</span>, <span style=\"color: #00af00; text-decoration-color: #00af00\">500</span>, <span style=\"color: #00af00; text-decoration-color: #00af00\">128</span>)         │     <span style=\"color: #00af00; text-decoration-color: #00af00\">1,280,000</span> │\n",
       "├─────────────────────────────────┼────────────────────────┼───────────────┤\n",
       "│ simple_rnn_1 (<span style=\"color: #0087ff; text-decoration-color: #0087ff\">SimpleRNN</span>)        │ (<span style=\"color: #00af00; text-decoration-color: #00af00\">32</span>, <span style=\"color: #00af00; text-decoration-color: #00af00\">128</span>)              │        <span style=\"color: #00af00; text-decoration-color: #00af00\">32,896</span> │\n",
       "├─────────────────────────────────┼────────────────────────┼───────────────┤\n",
       "│ dense_1 (<span style=\"color: #0087ff; text-decoration-color: #0087ff\">Dense</span>)                 │ (<span style=\"color: #00af00; text-decoration-color: #00af00\">32</span>, <span style=\"color: #00af00; text-decoration-color: #00af00\">1</span>)                │           <span style=\"color: #00af00; text-decoration-color: #00af00\">129</span> │\n",
       "└─────────────────────────────────┴────────────────────────┴───────────────┘\n",
       "</pre>\n"
      ],
      "text/plain": [
       "┏━━━━━━━━━━━━━━━━━━━━━━━━━━━━━━━━━┳━━━━━━━━━━━━━━━━━━━━━━━━┳━━━━━━━━━━━━━━━┓\n",
       "┃\u001b[1m \u001b[0m\u001b[1mLayer (type)                   \u001b[0m\u001b[1m \u001b[0m┃\u001b[1m \u001b[0m\u001b[1mOutput Shape          \u001b[0m\u001b[1m \u001b[0m┃\u001b[1m \u001b[0m\u001b[1m      Param #\u001b[0m\u001b[1m \u001b[0m┃\n",
       "┡━━━━━━━━━━━━━━━━━━━━━━━━━━━━━━━━━╇━━━━━━━━━━━━━━━━━━━━━━━━╇━━━━━━━━━━━━━━━┩\n",
       "│ embedding_1 (\u001b[38;5;33mEmbedding\u001b[0m)         │ (\u001b[38;5;34m32\u001b[0m, \u001b[38;5;34m500\u001b[0m, \u001b[38;5;34m128\u001b[0m)         │     \u001b[38;5;34m1,280,000\u001b[0m │\n",
       "├─────────────────────────────────┼────────────────────────┼───────────────┤\n",
       "│ simple_rnn_1 (\u001b[38;5;33mSimpleRNN\u001b[0m)        │ (\u001b[38;5;34m32\u001b[0m, \u001b[38;5;34m128\u001b[0m)              │        \u001b[38;5;34m32,896\u001b[0m │\n",
       "├─────────────────────────────────┼────────────────────────┼───────────────┤\n",
       "│ dense_1 (\u001b[38;5;33mDense\u001b[0m)                 │ (\u001b[38;5;34m32\u001b[0m, \u001b[38;5;34m1\u001b[0m)                │           \u001b[38;5;34m129\u001b[0m │\n",
       "└─────────────────────────────────┴────────────────────────┴───────────────┘\n"
      ]
     },
     "metadata": {},
     "output_type": "display_data"
    },
    {
     "data": {
      "text/html": [
       "<pre style=\"white-space:pre;overflow-x:auto;line-height:normal;font-family:Menlo,'DejaVu Sans Mono',consolas,'Courier New',monospace\"><span style=\"font-weight: bold\"> Total params: </span><span style=\"color: #00af00; text-decoration-color: #00af00\">1,313,027</span> (5.01 MB)\n",
       "</pre>\n"
      ],
      "text/plain": [
       "\u001b[1m Total params: \u001b[0m\u001b[38;5;34m1,313,027\u001b[0m (5.01 MB)\n"
      ]
     },
     "metadata": {},
     "output_type": "display_data"
    },
    {
     "data": {
      "text/html": [
       "<pre style=\"white-space:pre;overflow-x:auto;line-height:normal;font-family:Menlo,'DejaVu Sans Mono',consolas,'Courier New',monospace\"><span style=\"font-weight: bold\"> Trainable params: </span><span style=\"color: #00af00; text-decoration-color: #00af00\">1,313,025</span> (5.01 MB)\n",
       "</pre>\n"
      ],
      "text/plain": [
       "\u001b[1m Trainable params: \u001b[0m\u001b[38;5;34m1,313,025\u001b[0m (5.01 MB)\n"
      ]
     },
     "metadata": {},
     "output_type": "display_data"
    },
    {
     "data": {
      "text/html": [
       "<pre style=\"white-space:pre;overflow-x:auto;line-height:normal;font-family:Menlo,'DejaVu Sans Mono',consolas,'Courier New',monospace\"><span style=\"font-weight: bold\"> Non-trainable params: </span><span style=\"color: #00af00; text-decoration-color: #00af00\">0</span> (0.00 B)\n",
       "</pre>\n"
      ],
      "text/plain": [
       "\u001b[1m Non-trainable params: \u001b[0m\u001b[38;5;34m0\u001b[0m (0.00 B)\n"
      ]
     },
     "metadata": {},
     "output_type": "display_data"
    },
    {
     "data": {
      "text/html": [
       "<pre style=\"white-space:pre;overflow-x:auto;line-height:normal;font-family:Menlo,'DejaVu Sans Mono',consolas,'Courier New',monospace\"><span style=\"font-weight: bold\"> Optimizer params: </span><span style=\"color: #00af00; text-decoration-color: #00af00\">2</span> (12.00 B)\n",
       "</pre>\n"
      ],
      "text/plain": [
       "\u001b[1m Optimizer params: \u001b[0m\u001b[38;5;34m2\u001b[0m (12.00 B)\n"
      ]
     },
     "metadata": {},
     "output_type": "display_data"
    }
   ],
   "source": [
    "# Load the pre-trained model with ReLU activation\n",
    "model = load_model('simple_rnn_imdb.h5')\n",
    "model.summary()"
   ]
  },
  {
   "cell_type": "code",
   "execution_count": 4,
   "metadata": {},
   "outputs": [
    {
     "data": {
      "text/plain": [
       "[array([[ 0.45005646, -0.41923994,  0.16213298, ...,  0.47668734,\n",
       "          0.45785356, -0.21645445],\n",
       "        [-0.00967163, -0.01727745,  0.00675352, ..., -0.02042323,\n",
       "          0.01459154, -0.04383436],\n",
       "        [ 0.0622412 , -0.04380223, -0.03308683, ...,  0.09719969,\n",
       "          0.01724714, -0.03479358],\n",
       "        ...,\n",
       "        [-0.06875546,  0.02710087, -0.04507682, ..., -0.0549142 ,\n",
       "          0.00928114,  0.02251216],\n",
       "        [ 0.08512903, -0.00578891,  0.0817883 , ...,  0.00157845,\n",
       "         -0.02835362, -0.03132359],\n",
       "        [ 0.06896974,  0.03729736, -0.14499435, ...,  0.03380972,\n",
       "          0.00249127,  0.0904668 ]], dtype=float32),\n",
       " array([[-0.09833598,  0.1500492 ,  0.08448926, ..., -0.07475508,\n",
       "         -0.07411563,  0.11056222],\n",
       "        [ 0.03472472,  0.02911206, -0.22017968, ..., -0.08940097,\n",
       "         -0.13241765,  0.03527299],\n",
       "        [-0.13306923, -0.09574009, -0.00707059, ..., -0.04380209,\n",
       "         -0.0392554 , -0.03962724],\n",
       "        ...,\n",
       "        [-0.15499198,  0.04667292,  0.26764116, ..., -0.00132873,\n",
       "         -0.09156798, -0.09936271],\n",
       "        [ 0.00059376, -0.0332872 ,  0.15453142, ..., -0.04092166,\n",
       "         -0.14926755, -0.04115738],\n",
       "        [ 0.17455192,  0.01781345, -0.138043  , ..., -0.01480535,\n",
       "          0.13062724,  0.02965402]], dtype=float32),\n",
       " array([[ 0.08275057, -0.04369834,  0.07500639, ...,  0.11975131,\n",
       "          0.00062709,  0.04829037],\n",
       "        [-0.04097726,  0.08364841, -0.09854935, ...,  0.11088098,\n",
       "         -0.15004095,  0.0773576 ],\n",
       "        [-0.01995466, -0.11654633,  0.21154758, ..., -0.027126  ,\n",
       "         -0.1984479 , -0.18045104],\n",
       "        ...,\n",
       "        [-0.0514792 ,  0.02594409,  0.09412401, ..., -0.10569574,\n",
       "         -0.04650178,  0.1017278 ],\n",
       "        [ 0.01292435,  0.07127374, -0.09835703, ..., -0.212814  ,\n",
       "         -0.01338365, -0.07375544],\n",
       "        [ 0.11046191,  0.04735453, -0.01977896, ...,  0.08906898,\n",
       "         -0.04159411,  0.08140616]], dtype=float32),\n",
       " array([ 2.26148702e-02,  1.61086246e-02,  1.07498340e-01, -3.07746930e-03,\n",
       "         7.72294216e-03,  1.12971093e-03, -7.92049989e-03, -1.02223807e-04,\n",
       "         1.98144298e-02, -3.01212110e-02,  6.55069901e-03, -1.13486173e-02,\n",
       "        -3.38589749e-03, -1.44571243e-02, -8.79445951e-03, -1.45442327e-02,\n",
       "         5.57153905e-03,  9.83561855e-03, -8.02002009e-03, -1.16209220e-02,\n",
       "         1.64837632e-02, -1.54430522e-02,  1.54265864e-02, -7.09451828e-03,\n",
       "         2.75555369e-03, -1.04951579e-02, -1.30486423e-02,  1.82525683e-02,\n",
       "        -3.85673763e-03,  1.12701524e-02,  1.73924807e-02,  2.07493957e-02,\n",
       "        -1.04336478e-02, -4.12137285e-02, -6.89618941e-03,  8.34789127e-03,\n",
       "        -2.02501006e-02, -1.65592786e-02,  4.24362067e-03,  3.68914055e-03,\n",
       "         2.67822165e-02,  7.19111832e-03, -1.78901721e-02, -1.51836304e-02,\n",
       "         1.36767570e-02, -3.32381669e-03,  3.33763496e-03, -1.70482583e-02,\n",
       "        -8.23578238e-03, -6.93835597e-03, -9.88162961e-03,  1.73707008e-02,\n",
       "         1.39709227e-02,  1.83739811e-02,  8.44901055e-03,  1.10103488e-02,\n",
       "        -1.55159738e-02,  8.41143262e-03, -3.43153346e-03,  1.88600738e-02,\n",
       "        -7.31300004e-03, -1.31933363e-02,  2.25925632e-02,  3.11036855e-02,\n",
       "         8.23219866e-03, -5.57574537e-03, -7.62751559e-04,  1.46184042e-02,\n",
       "         2.17432552e-03, -4.71904688e-03, -2.13606935e-02, -1.23898769e-02,\n",
       "        -9.26396064e-03,  8.86380486e-03,  8.86806753e-03,  2.44637905e-03,\n",
       "        -3.91497137e-03,  2.31085606e-02,  2.23558098e-02,  1.50306281e-02,\n",
       "        -2.42893910e-03, -8.83518439e-03, -1.86852980e-02, -1.31747555e-02,\n",
       "         2.12647254e-03, -1.24140857e-02,  9.97175183e-03, -2.18354762e-02,\n",
       "         1.16673419e-02, -7.98837002e-03,  3.72917135e-03, -8.16749502e-03,\n",
       "        -2.07713880e-02, -3.26514132e-02,  1.38340537e-02, -6.15826249e-03,\n",
       "        -4.06429451e-03, -3.65737220e-03, -1.66245340e-03,  1.81455147e-02,\n",
       "         2.00764779e-02, -2.56383941e-02,  2.43093781e-02,  4.81172930e-03,\n",
       "        -2.62848511e-02,  1.46168387e-02, -9.96653922e-03, -7.63990125e-03,\n",
       "         1.75330415e-02,  2.42845528e-03,  1.91769656e-02, -6.59814058e-03,\n",
       "         1.63094439e-02, -4.06822376e-03,  5.72734373e-03, -3.66217340e-03,\n",
       "         1.08990204e-02, -1.09196454e-02,  5.72576467e-03,  8.23282637e-03,\n",
       "        -2.89792772e-02,  2.29105167e-03,  7.83715956e-03, -8.67335312e-03,\n",
       "         1.42050283e-02, -1.06900381e-02,  1.81164732e-03, -1.40602607e-02],\n",
       "       dtype=float32),\n",
       " array([[ 0.3848909 ],\n",
       "        [ 0.18761727],\n",
       "        [-0.25588262],\n",
       "        [ 0.16728754],\n",
       "        [-0.59926546],\n",
       "        [ 0.4829404 ],\n",
       "        [ 0.06719477],\n",
       "        [-0.19740209],\n",
       "        [ 0.31133875],\n",
       "        [ 0.38010785],\n",
       "        [-0.11155447],\n",
       "        [ 0.05100217],\n",
       "        [ 0.49474207],\n",
       "        [ 0.10825155],\n",
       "        [-0.1036075 ],\n",
       "        [ 0.02073018],\n",
       "        [ 0.01515796],\n",
       "        [ 0.11667332],\n",
       "        [-0.07869784],\n",
       "        [-0.09617367],\n",
       "        [ 0.29599732],\n",
       "        [ 0.04773343],\n",
       "        [-0.13478461],\n",
       "        [-0.20635346],\n",
       "        [ 0.07748778],\n",
       "        [ 0.4137736 ],\n",
       "        [-0.06848326],\n",
       "        [ 0.201094  ],\n",
       "        [ 0.22929631],\n",
       "        [-0.10864758],\n",
       "        [-0.0914513 ],\n",
       "        [ 0.28726718],\n",
       "        [-0.02637891],\n",
       "        [ 0.19509716],\n",
       "        [-0.17455503],\n",
       "        [-0.15930459],\n",
       "        [-0.0730629 ],\n",
       "        [ 0.34969735],\n",
       "        [-0.371803  ],\n",
       "        [-0.23765494],\n",
       "        [-0.4221478 ],\n",
       "        [ 0.05556516],\n",
       "        [-0.07733671],\n",
       "        [ 0.19316073],\n",
       "        [ 0.29962865],\n",
       "        [-0.22006041],\n",
       "        [ 0.39825317],\n",
       "        [-0.23608188],\n",
       "        [ 0.01626243],\n",
       "        [ 0.03394852],\n",
       "        [-0.04863242],\n",
       "        [-0.04801565],\n",
       "        [ 0.18111448],\n",
       "        [ 0.31814915],\n",
       "        [-0.06150474],\n",
       "        [-0.20582132],\n",
       "        [ 0.30831504],\n",
       "        [-0.1582316 ],\n",
       "        [-0.00597513],\n",
       "        [ 0.2982474 ],\n",
       "        [ 0.27712017],\n",
       "        [-0.12625   ],\n",
       "        [ 0.3467461 ],\n",
       "        [-0.44244072],\n",
       "        [ 0.10422081],\n",
       "        [-0.10844307],\n",
       "        [-0.14778319],\n",
       "        [-0.19175547],\n",
       "        [ 0.18469691],\n",
       "        [-0.12544723],\n",
       "        [ 0.09182959],\n",
       "        [ 0.21271294],\n",
       "        [ 0.18044716],\n",
       "        [-0.14727391],\n",
       "        [-0.31795332],\n",
       "        [ 0.03906356],\n",
       "        [-0.16868025],\n",
       "        [-0.25115895],\n",
       "        [-0.04052753],\n",
       "        [-0.19628479],\n",
       "        [-0.06368035],\n",
       "        [ 0.45628083],\n",
       "        [ 0.19199765],\n",
       "        [-0.29174528],\n",
       "        [-0.21284653],\n",
       "        [ 0.46765292],\n",
       "        [ 0.28883818],\n",
       "        [-0.1247243 ],\n",
       "        [ 0.09353723],\n",
       "        [-0.04740231],\n",
       "        [ 0.01772605],\n",
       "        [ 0.10713882],\n",
       "        [-0.05417279],\n",
       "        [-0.23778062],\n",
       "        [ 0.03397061],\n",
       "        [-0.18728219],\n",
       "        [ 0.15239507],\n",
       "        [-0.21154937],\n",
       "        [-0.07028693],\n",
       "        [-0.08497847],\n",
       "        [ 0.05850534],\n",
       "        [ 0.21976306],\n",
       "        [-0.2897327 ],\n",
       "        [-0.15870355],\n",
       "        [-0.09671162],\n",
       "        [-0.38634768],\n",
       "        [ 0.10870571],\n",
       "        [ 0.06011669],\n",
       "        [ 0.22305778],\n",
       "        [-0.06458271],\n",
       "        [ 0.21679597],\n",
       "        [ 0.08807243],\n",
       "        [-0.16077903],\n",
       "        [-0.1720212 ],\n",
       "        [-0.0138726 ],\n",
       "        [-0.03882491],\n",
       "        [-0.3047024 ],\n",
       "        [ 0.05995283],\n",
       "        [ 0.22559074],\n",
       "        [ 0.15334491],\n",
       "        [ 0.04289462],\n",
       "        [ 0.02375203],\n",
       "        [-0.19126925],\n",
       "        [ 0.2422155 ],\n",
       "        [ 0.2489129 ],\n",
       "        [-0.057894  ],\n",
       "        [ 0.00348601],\n",
       "        [-0.07868337]], dtype=float32),\n",
       " array([0.03125052], dtype=float32)]"
      ]
     },
     "execution_count": 4,
     "metadata": {},
     "output_type": "execute_result"
    }
   ],
   "source": [
    "model.get_weights()"
   ]
  },
  {
   "cell_type": "code",
   "execution_count": 5,
   "metadata": {},
   "outputs": [],
   "source": [
    "# Step 2: Helper Functions\n",
    "# Function to decode reviews\n",
    "def decode_review(encoded_review):\n",
    "    return ' '.join([reverse_word_index.get(i - 3, '?') for i in encoded_review])\n",
    "\n",
    "# Function to preprocess user input\n",
    "def preprocess_text(text):\n",
    "    words = text.lower().split()\n",
    "    encoded_review = [word_index.get(word, 2) + 3 for word in words]\n",
    "    padded_review = sequence.pad_sequences([encoded_review], maxlen=500)\n",
    "    return padded_review"
   ]
  },
  {
   "cell_type": "code",
   "execution_count": 7,
   "metadata": {},
   "outputs": [],
   "source": [
    "### Prediction  function\n",
    "\n",
    "def predict_sentiment(review):\n",
    "    preprocessed_input=preprocess_text(review)\n",
    "\n",
    "    prediction=model.predict(preprocessed_input)\n",
    "\n",
    "    sentiment = 'Positive' if prediction[0][0] > 0.5 else 'Negative'\n",
    "    \n",
    "    return sentiment, prediction[0][0]\n",
    "\n"
   ]
  },
  {
   "cell_type": "code",
   "execution_count": 13,
   "metadata": {},
   "outputs": [
    {
     "name": "stdout",
     "output_type": "stream",
     "text": [
      "\u001b[1m1/1\u001b[0m \u001b[32m━━━━━━━━━━━━━━━━━━━━\u001b[0m\u001b[37m\u001b[0m \u001b[1m0s\u001b[0m 46ms/step\n",
      "Review: This movie was fantastic! The acting was great and the plot was thrilling.\n",
      "Sentiment: Positive\n",
      "Prediction Score: 0.7115607857704163\n"
     ]
    }
   ],
   "source": [
    "# Step 4: User Input and Prediction\n",
    "# Example review for prediction\n",
    "example_review = \"This movie was fantastic! The acting was great and the plot was thrilling.\"\n",
    "\n",
    "sentiment,score=predict_sentiment(example_review)\n",
    "\n",
    "print(f'Review: {example_review}')\n",
    "print(f'Sentiment: {sentiment}')\n",
    "print(f'Prediction Score: {score}')"
   ]
  },
  {
   "cell_type": "code",
   "execution_count": null,
   "metadata": {},
   "outputs": [],
   "source": []
  },
  {
   "cell_type": "code",
   "execution_count": null,
   "metadata": {},
   "outputs": [],
   "source": []
  },
  {
   "cell_type": "code",
   "execution_count": null,
   "metadata": {},
   "outputs": [],
   "source": []
  },
  {
   "cell_type": "code",
   "execution_count": null,
   "metadata": {},
   "outputs": [],
   "source": []
  }
 ],
 "metadata": {
  "kernelspec": {
   "display_name": "Python 3",
   "language": "python",
   "name": "python3"
  },
  "language_info": {
   "codemirror_mode": {
    "name": "ipython",
    "version": 3
   },
   "file_extension": ".py",
   "mimetype": "text/x-python",
   "name": "python",
   "nbconvert_exporter": "python",
   "pygments_lexer": "ipython3",
   "version": "3.11.7"
  }
 },
 "nbformat": 4,
 "nbformat_minor": 2
}
